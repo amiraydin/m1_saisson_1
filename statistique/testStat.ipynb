{
 "cells": [
  {
   "cell_type": "code",
   "execution_count": 10,
   "metadata": {},
   "outputs": [],
   "source": [
    "import numpy as np\n",
    "from scipy.stats import chi2\n",
    "\n",
    "mean = 20\n",
    "std_dev = 0.9\n",
    "\n",
    "# Données de l'échantillon\n",
    "sample = np.random.normal(mean, std_dev, 101)  # Remplacez mean et std_dev par vos valeurs\n",
    "\n",
    "# Taille de l'échantillon\n",
    "n = len(sample)\n",
    "\n",
    "# Degré de liberté\n",
    "degrees_of_freedom = n - 1\n",
    "\n",
    "# Variance de l'échantillon\n",
    "sample_variance = np.var(sample, ddof=1)  # ddof=1 pour diviser par n-1 au lieu de n\n",
    "\n",
    "# Intervalle de confiance\n",
    "confidence_level = 0.9\n",
    "alpha = 1 - confidence_level\n",
    "\n",
    "lower_bound = (n - 1) * sample_variance / chi2.ppf(1 - alpha / 2, degrees_of_freedom)\n",
    "upper_bound = (n - 1) * sample_variance / chi2.ppf(alpha / 2, degrees_of_freedom)\n",
    "\n",
    "# print(\"Intervalle de confiance pour la variance :\", (lower_bound, upper_bound))\n",
    "\n"
   ]
  },
  {
   "cell_type": "code",
   "execution_count": null,
   "metadata": {},
   "outputs": [],
   "source": []
  },
  {
   "cell_type": "code",
   "execution_count": null,
   "metadata": {},
   "outputs": [],
   "source": []
  }
 ],
 "metadata": {
  "kernelspec": {
   "display_name": "Python 3",
   "language": "python",
   "name": "python3"
  },
  "language_info": {
   "codemirror_mode": {
    "name": "ipython",
    "version": 3
   },
   "file_extension": ".py",
   "mimetype": "text/x-python",
   "name": "python",
   "nbconvert_exporter": "python",
   "pygments_lexer": "ipython3",
   "version": "3.11.4"
  }
 },
 "nbformat": 4,
 "nbformat_minor": 2
}
