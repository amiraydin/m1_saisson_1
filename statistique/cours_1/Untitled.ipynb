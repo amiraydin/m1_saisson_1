{
 "cells": [
  {
   "cell_type": "code",
   "execution_count": 1,
   "id": "32731469-c40d-4bc9-8ae3-83b42ad48050",
   "metadata": {},
   "outputs": [],
   "source": [
    "import random \n",
    "import stat\n",
    "\n",
    "z = round(random.uniform(0, 1), 2)\n",
    "# print(z)\n",
    "p = (z < 1.34)\n",
    "# print(p)\n",
    "# P(|z| > 1.96)\n",
    "p = (1.12 < z < 1.57)\n",
    "# print(p)"
   ]
  },
  {
   "cell_type": "code",
   "execution_count": null,
   "id": "15c4d45f-cc56-467d-a4fc-437bca8a0524",
   "metadata": {},
   "outputs": [],
   "source": []
  },
  {
   "cell_type": "code",
   "execution_count": null,
   "id": "f8779fac-04c0-4571-8fb4-1345151b7c98",
   "metadata": {},
   "outputs": [],
   "source": []
  },
  {
   "cell_type": "code",
   "execution_count": null,
   "id": "bef854fe-f67b-4672-bfd6-c8ffbb142417",
   "metadata": {},
   "outputs": [],
   "source": []
  }
 ],
 "metadata": {
  "kernelspec": {
   "display_name": "Python 3 (ipykernel)",
   "language": "python",
   "name": "python3"
  },
  "language_info": {
   "codemirror_mode": {
    "name": "ipython",
    "version": 3
   },
   "file_extension": ".py",
   "mimetype": "text/x-python",
   "name": "python",
   "nbconvert_exporter": "python",
   "pygments_lexer": "ipython3",
   "version": "3.11.4"
  }
 },
 "nbformat": 4,
 "nbformat_minor": 5
}
