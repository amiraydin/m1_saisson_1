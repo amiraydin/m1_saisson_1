{
 "cells": [
  {
   "cell_type": "code",
   "execution_count": null,
   "metadata": {},
   "outputs": [],
   "source": [
    "import matplotlib\n",
    "import numpy as np\n",
    "import sys\n",
    "np.set_printoptions(threshold=sys.maxsize)\n",
    "from sklearn.decomposition import PCA\n",
    "import pandas as pd\n",
    "import warnings\n",
    "import matplotlib.pyplot as plt\n",
    "warnings.filterwarnings('ignore')\n",
    "\n",
    "data = pd.read_csv('mouse.txt', sep=' ')\n",
    "data.head(25)\n",
    "np_data = np.array(data)\n",
    "print(np_data.shape)\n",
    "\n",
    "X = np_data[:, 0]\n",
    "Y = np_data[:, 1]\n",
    "plt.plot(X, Y)\n",
    "\n",
    "plt.show()"
   ]
  },
  {
   "cell_type": "code",
   "execution_count": null,
   "metadata": {},
   "outputs": [],
   "source": [
    "from sklearn.ensemble import IsolationForest\n",
    "\n",
    "# X = X.reshape(-1,1)\n",
    "clf = IsolationForest(random_state=0, contamination=0.05).fit(X)\n",
    "scores = clf.score_samples(X)\n",
    "y_predit = clf.predict(X)\n",
    "y_pred_test = np.where(y_predit == -1, 1, 0)\n",
    "plt.scatter(X, Y, c=y_pred_test)\n",
    "plt.show()"
   ]
  },
  {
   "cell_type": "code",
   "execution_count": null,
   "metadata": {},
   "outputs": [],
   "source": [
    "from sklearn.metrics import confusion_matrix,accuracy_score,recall_score,precision_score\n",
    "from sklearn.model_selection import train_test_split\n",
    "\n",
    "data = pd.read_csv(\"./creditcard.csv\", sep=\",\", header=0)\n",
    "data.head(70)\n",
    "# data.describe()\n",
    "# nupy = np.array(data)\n",
    "# x = nupy[:, 0:29]\n",
    "# y = nupy[:, 30]\n",
    "X = data.drop(columns='Class')\n",
    "Y = data['Class']\n",
    "\n",
    "X_train, X_test, Y_train, Y_test = train_test_split(X, Y, test_size=0.2, random_state=42)\n",
    "y_predit = clf.predict(X)\n",
    "y_pred_test = np.where(y_predit == -1, 1, 0)\n",
    "predict_train = clf.predict(X_train)\n",
    "y_pred_train = np.where(predict_train == -1, 1, 0)\n",
    "\n",
    "print('Train shape : ', y_pred_train.shape)\n",
    "print('X_train shape', X_train.shape)\n",
    "print('Test shape : ', y_pred_test.shape)\n",
    "print('X_test shape', X_test.shape)"
   ]
  },
  {
   "cell_type": "code",
   "execution_count": null,
   "metadata": {},
   "outputs": [],
   "source": [
    "a2 = plt.scatter(X_test, X_test, c=y_pred_test)\n",
    "plt.show()"
   ]
  },
  {
   "cell_type": "code",
   "execution_count": null,
   "metadata": {},
   "outputs": [],
   "source": []
  }
 ],
 "metadata": {
  "kernelspec": {
   "display_name": "Python 3",
   "language": "python",
   "name": "python3"
  },
  "language_info": {
   "codemirror_mode": {
    "name": "ipython",
    "version": 3
   },
   "file_extension": ".py",
   "mimetype": "text/x-python",
   "name": "python",
   "nbconvert_exporter": "python",
   "pygments_lexer": "ipython3",
   "version": "3.11.4"
  }
 },
 "nbformat": 4,
 "nbformat_minor": 2
}
