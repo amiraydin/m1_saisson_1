{
 "cells": [
  {
   "cell_type": "code",
   "execution_count": null,
   "metadata": {},
   "outputs": [],
   "source": [
    "import numpy as np\n",
    "import sys\n",
    "np.set_printoptions(threshold=sys.maxsize)\n",
    "import pandas as pd\n",
    "import warnings\n",
    "import matplotlib.pyplot as plt\n",
    "warnings.filterwarnings('ignore')"
   ]
  },
  {
   "cell_type": "code",
   "execution_count": null,
   "metadata": {},
   "outputs": [],
   "source": [
    "data = pd.read_csv('creditcard.csv', sep=',')\n",
    "data.head(25)\n",
    "np_data = np.array(data)\n",
    "\n",
    "X = np_data[:, 0:29]\n",
    "Y = np_data[:, 30]"
   ]
  },
  {
   "cell_type": "code",
   "execution_count": null,
   "metadata": {},
   "outputs": [],
   "source": [
    "from sklearn.ensemble import IsolationForest\n",
    "from sklearn.model_selection import train_test_split\n",
    "\n",
    "X_train, X_test, Y_train, Y_test = train_test_split(X, Y, test_size=0.2, random_state=1)\n",
    "clf = IsolationForest(random_state=0).fit(X_train)\n",
    "predict = clf.predict(X_test)\n",
    "y_pred_test = np.where(predict == -1, 1, 0)\n",
    "# print(y_pred_test)\n",
    "# print(predict)\n",
    "print(X_train)"
   ]
  },
  {
   "cell_type": "code",
   "execution_count": null,
   "metadata": {},
   "outputs": [],
   "source": [
    "from sklearn.metrics import accuracy_score\n",
    "from sklearn.metrics import recall_score\n",
    "from sklearn.metrics import confusion_matrix\n",
    "\n",
    "accuracy = accuracy_score(y_pred_test, Y_test)\n",
    "recall = recall_score(y_pred_test, Y_test)\n",
    "print(\"recall : \", recall)\n",
    "print(\"Accuracy : \", accuracy)\n",
    "\n",
    "confusion = confusion_matrix(Y_test, y_pred_test)\n",
    "print(\"Confusion : \", confusion)"
   ]
  },
  {
   "cell_type": "code",
   "execution_count": null,
   "metadata": {},
   "outputs": [],
   "source": [
    "data = pd.read_csv('spambase.data', sep=',')\n",
    "data.head(30)\n",
    "np_data = np.array(data)\n",
    "# print(np_data.shape)"
   ]
  },
  {
   "cell_type": "code",
   "execution_count": null,
   "metadata": {},
   "outputs": [],
   "source": [
    "\n",
    "X = np_data[:, 0:56]\n",
    "Y = np_data[:, 57]\n",
    "X_train, X_test, Y_train, Y_test = train_test_split(X, Y, test_size=0.2, random_state=1)\n",
    "\n",
    "\n",
    "clf = IsolationForest(random_state=0).fit(X_train)\n",
    "predict = clf.predict(X_test)\n",
    "y_pred_test = np.where(predict == -1, 1, 0)\n",
    "print(y_pred_test)\n",
    "print(predict)"
   ]
  },
  {
   "cell_type": "code",
   "execution_count": null,
   "metadata": {},
   "outputs": [],
   "source": [
    "accuracy = accuracy_score(y_pred_test, Y_test)\n",
    "recall = recall_score(Y_test, y_pred_test)\n",
    "confusion = confusion_matrix(Y_test, y_pred_test)\n",
    "\n",
    "print(\"Accuracy : \", accuracy)\n",
    "print(\"recall : \", recall)\n",
    "print(\"Confusion : \", confusion)\n"
   ]
  }
 ],
 "metadata": {
  "kernelspec": {
   "display_name": "Python 3",
   "language": "python",
   "name": "python3"
  },
  "language_info": {
   "codemirror_mode": {
    "name": "ipython",
    "version": 3
   },
   "file_extension": ".py",
   "mimetype": "text/x-python",
   "name": "python",
   "nbconvert_exporter": "python",
   "pygments_lexer": "ipython3",
   "version": "3.11.4"
  }
 },
 "nbformat": 4,
 "nbformat_minor": 2
}
